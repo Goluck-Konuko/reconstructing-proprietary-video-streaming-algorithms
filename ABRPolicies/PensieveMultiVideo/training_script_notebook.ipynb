{
 "cells": [
  {
   "cell_type": "code",
   "execution_count": 5,
   "metadata": {
    "pycharm": {
     "is_executing": false,
     "name": "#%%\n"
    }
   },
   "outputs": [
    {
     "name": "stdout",
     "output_type": "stream",
     "text": [
      "Running epoch 62000.00 with 0.44\n",
      "Running epoch 63000.00 with 0.43\n",
      "Running epoch 64000.00 with 0.42\n",
      "Running epoch 65000.00 with 0.41\n",
      "Running epoch 66000.00 with 0.41\n",
      "Running epoch 67000.00 with 0.40\n",
      "Running epoch 68000.00 with 0.39\n",
      "Running epoch 69000.00 with 0.38\n",
      "Running epoch 70000.00 with 0.37\n",
      "Running epoch 71000.00 with 0.36\n",
      "Running epoch 72000.00 with 0.35\n",
      "Running epoch 73000.00 with 0.34\n",
      "Running epoch 74000.00 with 0.33\n",
      "Running epoch 75000.00 with 0.32\n",
      "Running epoch 76000.00 with 0.32\n",
      "Running epoch 77000.00 with 0.31\n",
      "Running epoch 78000.00 with 0.30\n",
      "Running epoch 79000.00 with 0.29\n",
      "Running epoch 80000.00 with 0.28\n",
      "Running epoch 81000.00 with 0.27\n",
      "Running epoch 82000.00 with 0.26\n",
      "Running epoch 83000.00 with 0.25\n",
      "Running epoch 84000.00 with 0.24\n",
      "Running epoch 85000.00 with 0.23\n",
      "Running epoch 86000.00 with 0.23\n",
      "Running epoch 87000.00 with 0.22\n",
      "Running epoch 88000.00 with 0.21\n",
      "Running epoch 89000.00 with 0.20\n",
      "Running epoch 90000.00 with 0.19\n",
      "Running epoch 91000.00 with 0.18\n",
      "Running epoch 92000.00 with 0.17\n",
      "Running epoch 93000.00 with 0.16\n",
      "Running epoch 94000.00 with 0.15\n",
      "Running epoch 95000.00 with 0.15\n",
      "Running epoch 96000.00 with 0.14\n"
     ]
    },
    {
     "ename": "KeyboardInterrupt",
     "evalue": "",
     "output_type": "error",
     "traceback": [
      "\u001b[0;31m---------------------------------------------------------------------------\u001b[0m",
      "\u001b[0;31mKeyboardInterrupt\u001b[0m                         Traceback (most recent call last)",
      "\u001b[0;32m<ipython-input-5-cb75631b2226>\u001b[0m in \u001b[0;36m<module>\u001b[0;34m\u001b[0m\n\u001b[1;32m     50\u001b[0m     \u001b[0mn_models\u001b[0m \u001b[0;34m=\u001b[0m \u001b[0mlen\u001b[0m\u001b[0;34m(\u001b[0m\u001b[0mos\u001b[0m\u001b[0;34m.\u001b[0m\u001b[0mlistdir\u001b[0m\u001b[0;34m(\u001b[0m\u001b[0;34m'models'\u001b[0m\u001b[0;34m)\u001b[0m\u001b[0;34m)\u001b[0m\u001b[0;34m\u001b[0m\u001b[0;34m\u001b[0m\u001b[0m\n\u001b[1;32m     51\u001b[0m     \u001b[0;32mwhile\u001b[0m \u001b[0mlen\u001b[0m\u001b[0;34m(\u001b[0m\u001b[0mos\u001b[0m\u001b[0;34m.\u001b[0m\u001b[0mlistdir\u001b[0m\u001b[0;34m(\u001b[0m\u001b[0;34m'models'\u001b[0m\u001b[0;34m)\u001b[0m\u001b[0;34m)\u001b[0m \u001b[0;34m<=\u001b[0m \u001b[0mn_models\u001b[0m \u001b[0;34m:\u001b[0m\u001b[0;34m\u001b[0m\u001b[0;34m\u001b[0m\u001b[0m\n\u001b[0;32m---> 52\u001b[0;31m         \u001b[0mtime\u001b[0m\u001b[0;34m.\u001b[0m\u001b[0msleep\u001b[0m\u001b[0;34m(\u001b[0m\u001b[0;36m10\u001b[0m\u001b[0;34m)\u001b[0m\u001b[0;34m\u001b[0m\u001b[0;34m\u001b[0m\u001b[0m\n\u001b[0m\u001b[1;32m     53\u001b[0m \u001b[0;34m\u001b[0m\u001b[0m\n\u001b[1;32m     54\u001b[0m     \u001b[0mcmd\u001b[0m \u001b[0;34m=\u001b[0m \u001b[0;34m\"ps ax | grep 'python3 multi_agent.py' | grep -v grep | awk '{print $1}'\"\u001b[0m\u001b[0;34m\u001b[0m\u001b[0;34m\u001b[0m\u001b[0m\n",
      "\u001b[0;31mKeyboardInterrupt\u001b[0m: "
     ]
    }
   ],
   "source": [
    "import os\n",
    "import time\n",
    "import subprocess as sp"
   ]
  },
  {
   "cell_type": "code",
   "execution_count": null,
   "outputs": [],
   "source": [
    "## Uses code provided from https://github.com/hongzimao/pensieve to train the multi agent model without opening the \n",
    "## Code again"
   ],
   "metadata": {
    "collapsed": false,
    "pycharm": {
     "name": "#%%\n"
    }
   }
  },
  {
   "cell_type": "code",
   "execution_count": null,
   "outputs": [],
   "source": [
    "models = list(filter(lambda s : 'nn_model_ep_' in s,os.listdir('./models/')))\n",
    "models = [float(k.split('_')[-1].split('.')[0]) for k in models]\n",
    "if len(models) == 0:\n",
    "    epoch = 0\n",
    "else:\n",
    "    epoch = int(max(models))\n",
    "\n",
    "current_epoch = epoch\n",
    "max_epoch = 10**5\n",
    "entropy_value = 1.0 - 0.9 * (float(current_epoch) / max_epoch)\n",
    "\n",
    "\n",
    "while current_epoch < max_epoch :\n",
    "    models = list(filter(lambda s : 'nn_model_ep_' in s,os.listdir('./models/')))\n",
    "    models = [float(k.split('_')[-1].split('.')[0]) for k in models]\n",
    "    if len(models) == 0:\n",
    "        epoch = 0\n",
    "    else:\n",
    "        epoch = int(max(models))\n",
    "    current_epoch = epoch\n",
    "    entropy_value = 1.0 - 0.9 * (float(current_epoch) / max_epoch)\n",
    "    with open('./multi_a3c.py','r') as in_f :\n",
    "        in_f = in_f.read()\n",
    "        in_f = in_f.split('\\n')\n",
    "        in_f[6] = 'ENTROPY_WEIGHT = %.2f' % entropy_value\n",
    "    \n",
    "    with open('./multi_a3c.py','w') as out_f :\n",
    "        in_f = '\\n'.join(in_f)\n",
    "        out_f.write(in_f)\n",
    "        \n",
    "    with open('./multi_agent.py','r') as in_f :\n",
    "        in_f = in_f.read()\n",
    "        in_f = in_f.split('\\n')\n",
    "        if epoch == 0 :\n",
    "            in_f[33] = 'NN_MODEL = None'\n",
    "        else:\n",
    "            in_f[33] = \"NN_MODEL = './models/nn_model_ep_%d.ckpt'\" % epoch\n",
    "\n",
    "    with open('./multi_agent.py','w') as out_f :\n",
    "        in_f = '\\n'.join(in_f)\n",
    "        out_f.write(in_f)\n",
    "        \n",
    "    print('Running epoch %.2f with %.2f' % (epoch,entropy_value))\n",
    "    \n",
    "    extProc = sp.Popen(['python3','multi_agent.py']) # runs myPyScript.py \n",
    "    n_models = len(os.listdir('models'))\n",
    "    while len(os.listdir('models')) <= n_models :\n",
    "        time.sleep(10)\n",
    "        \n",
    "    cmd = \"ps ax | grep 'python3 multi_agent.py' | grep -v grep | awk '{print $1}'\"\n",
    "    myCmd = os.popen(cmd).read()\n",
    "    for pid in myCmd.split('\\n') :\n",
    "        os.popen('kill -9 %s' % pid)"
   ],
   "metadata": {
    "collapsed": false,
    "pycharm": {
     "name": "#%%\n"
    }
   }
  },
  {
   "cell_type": "code",
   "execution_count": 7,
   "metadata": {
    "pycharm": {
     "is_executing": true,
     "name": "#%%\n"
    }
   },
   "outputs": [],
   "source": [
    "cmd = \"ps ax | grep 'python3 multi_agent.py' | grep -v grep | awk '{print $1}'\"\n",
    "myCmd = os.popen(cmd).read()\n",
    "for pid in myCmd.split('\\n') :\n",
    "    os.popen('kill -9 %s' % pid)\n",
    "\n",
    "\n"
   ]
  },
  {
   "cell_type": "code",
   "execution_count": null,
   "metadata": {
    "pycharm": {
     "name": "#%%\n"
    }
   },
   "outputs": [],
   "source": [
    "\n"
   ]
  }
 ],
 "metadata": {
  "kernelspec": {
   "display_name": "PyCharm (inverse-abr-reward-learning)",
   "language": "python",
   "name": "pycharm-73a511"
  },
  "language_info": {
   "codemirror_mode": {
    "name": "ipython",
    "version": 3
   },
   "file_extension": ".py",
   "mimetype": "text/x-python",
   "name": "python",
   "nbconvert_exporter": "python",
   "pygments_lexer": "ipython3",
   "version": "3.6.8"
  },
  "pycharm": {
   "stem_cell": {
    "cell_type": "raw",
    "source": [],
    "metadata": {
     "collapsed": false
    }
   }
  }
 },
 "nbformat": 4,
 "nbformat_minor": 2
}